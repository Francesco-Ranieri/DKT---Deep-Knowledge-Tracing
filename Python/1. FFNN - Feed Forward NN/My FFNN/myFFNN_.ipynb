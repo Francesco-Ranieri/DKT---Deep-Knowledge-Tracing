{
  "nbformat": 4,
  "nbformat_minor": 0,
  "metadata": {
    "colab": {
      "name": "myFFNN .ipynb",
      "provenance": [],
      "collapsed_sections": []
    },
    "kernelspec": {
      "name": "python3",
      "display_name": "Python 3"
    },
    "language_info": {
      "name": "python"
    }
  },
  "cells": [
    {
      "cell_type": "code",
      "metadata": {
        "id": "2GrIfFMiupP6"
      },
      "source": [
        "import tensorflow as tf \n",
        "import sklearn as sl\n",
        "import tensorflow.keras.layers as KL\n",
        "import numpy as np \n",
        "import matplotlib.pyplot as plt\n",
        "\n",
        "from keras.utils.vis_utils import plot_model\n",
        "\n",
        "from sklearn.model_selection import train_test_split\n",
        "from sklearn.datasets import make_blobs\n",
        "from matplotlib import pyplot\n",
        "from pandas import DataFrame"
      ],
      "execution_count": 23,
      "outputs": []
    },
    {
      "cell_type": "code",
      "metadata": {
        "id": "jr3_B1aqotdd",
        "colab": {
          "base_uri": "https://localhost:8080/"
        },
        "outputId": "4d1c53d0-1b25-4ded-efdb-627880cce9fc"
      },
      "source": [
        "dataset = np.random.uniform(size = (100000,100))\n",
        "dataset.shape\n",
        "#print(dataset[0])"
      ],
      "execution_count": 3,
      "outputs": [
        {
          "output_type": "execute_result",
          "data": {
            "text/plain": [
              "(100000, 100)"
            ]
          },
          "metadata": {
            "tags": []
          },
          "execution_count": 3
        }
      ]
    },
    {
      "cell_type": "code",
      "metadata": {
        "id": "VE9e36-lPFNS",
        "colab": {
          "base_uri": "https://localhost:8080/"
        },
        "outputId": "7239c62a-4bd4-4dc4-f7c2-38776b94b96f"
      },
      "source": [
        "classes = np.random.randint(10, size=100000)\n",
        "print(classes)"
      ],
      "execution_count": 4,
      "outputs": [
        {
          "output_type": "stream",
          "text": [
            "[0 5 3 ... 4 2 8]\n"
          ],
          "name": "stdout"
        }
      ]
    },
    {
      "cell_type": "code",
      "metadata": {
        "colab": {
          "base_uri": "https://localhost:8080/"
        },
        "id": "4pK1bj5CwkFi",
        "outputId": "9ed2a76f-e425-446a-865a-20bd48ed2c78"
      },
      "source": [
        "x_train, x_test, y_train, y_test = train_test_split(dataset, classes)\n",
        "print(\"x_train\",x_train.shape)\n",
        "print(\"x_test\",x_test.shape)"
      ],
      "execution_count": 5,
      "outputs": [
        {
          "output_type": "stream",
          "text": [
            "x_train (75000, 100)\n",
            "x_test (25000, 100)\n"
          ],
          "name": "stdout"
        }
      ]
    },
    {
      "cell_type": "code",
      "metadata": {
        "id": "RmMjRrMlRWQB"
      },
      "source": [
        "# create input layer\n",
        "inputs = KL.Input(shape=100)                            #(None, 100000, 100)\n",
        "# flatten the inputs\n",
        "#first_layer = KL.Flatten()(inputs)                     #(None, 1000000)\n"
      ],
      "execution_count": 7,
      "outputs": []
    },
    {
      "cell_type": "code",
      "metadata": {
        "id": "JRWVeiFnT1BO",
        "colab": {
          "base_uri": "https://localhost:8080/"
        },
        "outputId": "a457e27d-be7d-4a35-b64a-7e3eb55008fe"
      },
      "source": [
        "first_layer = KL.Dense(512, activation=tf.nn.relu)(inputs)            #(None, 512)\n",
        "\n",
        "second_layer = KL.Dense(256, activation=tf.nn.relu)(first_layer)\n",
        "\n",
        "outputs = KL.Dense(10, activation=tf.nn.softmax)(second_layer)         #(None, 10)\n",
        "\n",
        "# print tensor shape\n",
        "print (\"layer 0\", inputs.shape)               #input layer\n",
        "print(\"layer 1\", first_layer.shape)           #hidden layer 1\n",
        "print (\"layer 2\", second_layer.shape)         #hidden layer 2\n",
        "print (\"output\", outputs.shape)               #output layer"
      ],
      "execution_count": 8,
      "outputs": [
        {
          "output_type": "stream",
          "text": [
            "layer 0 (None, 100)\n",
            "layer 1 (None, 512)\n",
            "layer 2 (None, 256)\n",
            "output (None, 10)\n"
          ],
          "name": "stdout"
        }
      ]
    },
    {
      "cell_type": "code",
      "metadata": {
        "id": "oR-1nTVfR74W",
        "colab": {
          "base_uri": "https://localhost:8080/"
        },
        "outputId": "26d3e1bd-b6e4-4298-f446-fe6e8b266448"
      },
      "source": [
        "#create model (in, out)\n",
        "model = tf.keras.models.Model(inputs, outputs)\n",
        "model.summary()"
      ],
      "execution_count": 9,
      "outputs": [
        {
          "output_type": "stream",
          "text": [
            "Model: \"model\"\n",
            "_________________________________________________________________\n",
            "Layer (type)                 Output Shape              Param #   \n",
            "=================================================================\n",
            "input_2 (InputLayer)         [(None, 100)]             0         \n",
            "_________________________________________________________________\n",
            "dense (Dense)                (None, 512)               51712     \n",
            "_________________________________________________________________\n",
            "dense_1 (Dense)              (None, 256)               131328    \n",
            "_________________________________________________________________\n",
            "dense_2 (Dense)              (None, 10)                2570      \n",
            "=================================================================\n",
            "Total params: 185,610\n",
            "Trainable params: 185,610\n",
            "Non-trainable params: 0\n",
            "_________________________________________________________________\n"
          ],
          "name": "stdout"
        }
      ]
    },
    {
      "cell_type": "code",
      "metadata": {
        "colab": {
          "base_uri": "https://localhost:8080/",
          "height": 422
        },
        "id": "lOhnB206GZMQ",
        "outputId": "cc62efb3-d50e-41e4-f08b-c9e116682b03"
      },
      "source": [
        "plot_model(model, to_file='model_plot.png', show_shapes=True, show_layer_names=True)"
      ],
      "execution_count": 24,
      "outputs": [
        {
          "output_type": "execute_result",
          "data": {
            "image/png": "[encoded data removed]",
            "text/plain": [
              "<IPython.core.display.Image object>"
            ]
          },
          "metadata": {
            "tags": []
          },
          "execution_count": 24
        }
      ]
    },
    {
      "cell_type": "code",
      "metadata": {
        "id": "HFdaTRZWUqdl",
        "colab": {
          "base_uri": "https://localhost:8080/"
        },
        "outputId": "57e6f263-63a1-4822-c3e2-3301b2c5a286"
      },
      "source": [
        "model.compile(optimizer=\"adam\", loss=\"sparse_categorical_crossentropy\", metrics=[\"accuracy\"])\n",
        "print(x_test)\n",
        "model.fit(x_train, y_train, epochs=50)\n",
        "test_loss, test_acc = model.evaluate(x_test, y_test)\n",
        "print(\"Test Loss: {0} - Test Acc: {1}\".format(test_loss, test_acc))"
      ],
      "execution_count": 19,
      "outputs": [
        {
          "output_type": "stream",
          "text": [
            "[[0.14179308 0.84724573 0.95735186 ... 0.34203483 0.43106458 0.9386795 ]\n",
            " [0.15282705 0.08628477 0.5580028  ... 0.05374362 0.36469735 0.39748971]\n",
            " [0.3663582  0.32429519 0.42980175 ... 0.49188232 0.42259845 0.96333332]\n",
            " ...\n",
            " [0.26734131 0.16208186 0.37582404 ... 0.03270273 0.75105513 0.16485503]\n",
            " [0.28068368 0.87847377 0.73013436 ... 0.60910877 0.75474222 0.69188117]\n",
            " [0.65361616 0.7934062  0.80332708 ... 0.18960986 0.24055569 0.94057996]]\n",
            "Epoch 1/50\n",
            "2344/2344 [==============================] - 11s 4ms/step - loss: 2.3013 - accuracy: 0.1051\n",
            "Epoch 2/50\n",
            "2344/2344 [==============================] - 10s 4ms/step - loss: 2.3005 - accuracy: 0.1026\n",
            "Epoch 3/50\n",
            "2344/2344 [==============================] - 10s 4ms/step - loss: 2.3007 - accuracy: 0.1040\n",
            "Epoch 4/50\n",
            "2344/2344 [==============================] - 10s 4ms/step - loss: 2.3006 - accuracy: 0.1056\n",
            "Epoch 5/50\n",
            "2344/2344 [==============================] - 10s 4ms/step - loss: 2.3004 - accuracy: 0.1040\n",
            "Epoch 6/50\n",
            "2344/2344 [==============================] - 10s 4ms/step - loss: 2.3004 - accuracy: 0.1031\n",
            "Epoch 7/50\n",
            "2344/2344 [==============================] - 10s 4ms/step - loss: 2.3003 - accuracy: 0.1025\n",
            "Epoch 8/50\n",
            "2344/2344 [==============================] - 9s 4ms/step - loss: 2.3007 - accuracy: 0.1037\n",
            "Epoch 9/50\n",
            "2344/2344 [==============================] - 10s 4ms/step - loss: 2.3001 - accuracy: 0.1018\n",
            "Epoch 10/50\n",
            "2344/2344 [==============================] - 10s 4ms/step - loss: 2.3004 - accuracy: 0.1037\n",
            "Epoch 11/50\n",
            "2344/2344 [==============================] - 10s 4ms/step - loss: 2.3004 - accuracy: 0.1032\n",
            "Epoch 12/50\n",
            "2344/2344 [==============================] - 10s 4ms/step - loss: 2.3005 - accuracy: 0.1045\n",
            "Epoch 13/50\n",
            "2344/2344 [==============================] - 9s 4ms/step - loss: 2.3003 - accuracy: 0.1064\n",
            "Epoch 14/50\n",
            "2344/2344 [==============================] - 9s 4ms/step - loss: 2.3000 - accuracy: 0.1033\n",
            "Epoch 15/50\n",
            "2344/2344 [==============================] - 9s 4ms/step - loss: 2.3006 - accuracy: 0.1030\n",
            "Epoch 16/50\n",
            "2344/2344 [==============================] - 9s 4ms/step - loss: 2.3004 - accuracy: 0.1019\n",
            "Epoch 17/50\n",
            "2344/2344 [==============================] - 9s 4ms/step - loss: 2.3004 - accuracy: 0.1021\n",
            "Epoch 18/50\n",
            "2344/2344 [==============================] - 10s 4ms/step - loss: 2.3006 - accuracy: 0.1023\n",
            "Epoch 19/50\n",
            "2344/2344 [==============================] - 9s 4ms/step - loss: 2.3000 - accuracy: 0.1045\n",
            "Epoch 20/50\n",
            "2344/2344 [==============================] - 10s 4ms/step - loss: 2.3004 - accuracy: 0.1030\n",
            "Epoch 21/50\n",
            "2344/2344 [==============================] - 9s 4ms/step - loss: 2.3000 - accuracy: 0.1060\n",
            "Epoch 22/50\n",
            "2344/2344 [==============================] - 10s 4ms/step - loss: 2.2999 - accuracy: 0.1043\n",
            "Epoch 23/50\n",
            "2344/2344 [==============================] - 10s 4ms/step - loss: 2.3000 - accuracy: 0.1042\n",
            "Epoch 24/50\n",
            "2344/2344 [==============================] - 10s 4ms/step - loss: 2.3004 - accuracy: 0.1032\n",
            "Epoch 25/50\n",
            "2344/2344 [==============================] - 9s 4ms/step - loss: 2.3001 - accuracy: 0.1035\n",
            "Epoch 26/50\n",
            "2344/2344 [==============================] - 10s 4ms/step - loss: 2.3004 - accuracy: 0.1028\n",
            "Epoch 27/50\n",
            "2344/2344 [==============================] - 9s 4ms/step - loss: 2.3002 - accuracy: 0.1030\n",
            "Epoch 28/50\n",
            "2344/2344 [==============================] - 9s 4ms/step - loss: 2.3003 - accuracy: 0.1028\n",
            "Epoch 29/50\n",
            "2344/2344 [==============================] - 10s 4ms/step - loss: 2.2997 - accuracy: 0.1026\n",
            "Epoch 30/50\n",
            "2344/2344 [==============================] - 10s 4ms/step - loss: 2.3002 - accuracy: 0.1026\n",
            "Epoch 31/50\n",
            "2344/2344 [==============================] - 10s 4ms/step - loss: 2.2998 - accuracy: 0.1055\n",
            "Epoch 32/50\n",
            "2344/2344 [==============================] - 11s 4ms/step - loss: 2.3005 - accuracy: 0.1047\n",
            "Epoch 33/50\n",
            "2344/2344 [==============================] - 10s 4ms/step - loss: 2.2999 - accuracy: 0.1052\n",
            "Epoch 34/50\n",
            "2344/2344 [==============================] - 10s 4ms/step - loss: 2.2999 - accuracy: 0.1026\n",
            "Epoch 35/50\n",
            "2344/2344 [==============================] - 10s 4ms/step - loss: 2.3002 - accuracy: 0.1037\n",
            "Epoch 36/50\n",
            "2344/2344 [==============================] - 11s 5ms/step - loss: 2.3001 - accuracy: 0.1026\n",
            "Epoch 37/50\n",
            "2344/2344 [==============================] - 10s 4ms/step - loss: 2.2999 - accuracy: 0.1064\n",
            "Epoch 38/50\n",
            "2344/2344 [==============================] - 10s 4ms/step - loss: 2.2995 - accuracy: 0.1009\n",
            "Epoch 39/50\n",
            "2344/2344 [==============================] - 10s 4ms/step - loss: 2.2994 - accuracy: 0.1021\n",
            "Epoch 40/50\n",
            "2344/2344 [==============================] - 10s 4ms/step - loss: 2.2998 - accuracy: 0.1036\n",
            "Epoch 41/50\n",
            "2344/2344 [==============================] - 10s 4ms/step - loss: 2.2999 - accuracy: 0.1020\n",
            "Epoch 42/50\n",
            "2344/2344 [==============================] - 10s 4ms/step - loss: 2.3000 - accuracy: 0.1048\n",
            "Epoch 43/50\n",
            "2344/2344 [==============================] - 10s 4ms/step - loss: 2.2999 - accuracy: 0.1026\n",
            "Epoch 44/50\n",
            "2344/2344 [==============================] - 10s 4ms/step - loss: 2.2994 - accuracy: 0.1020\n",
            "Epoch 45/50\n",
            "2344/2344 [==============================] - 10s 4ms/step - loss: 2.2995 - accuracy: 0.1051\n",
            "Epoch 46/50\n",
            "2344/2344 [==============================] - 10s 4ms/step - loss: 2.2997 - accuracy: 0.1024\n",
            "Epoch 47/50\n",
            "2344/2344 [==============================] - 10s 4ms/step - loss: 2.2992 - accuracy: 0.0994\n",
            "Epoch 48/50\n",
            "2344/2344 [==============================] - 10s 4ms/step - loss: 2.2994 - accuracy: 0.1050\n",
            "Epoch 49/50\n",
            "2344/2344 [==============================] - 10s 4ms/step - loss: 2.2992 - accuracy: 0.1022\n",
            "Epoch 50/50\n",
            "2344/2344 [==============================] - 10s 4ms/step - loss: 2.2998 - accuracy: 0.1038\n",
            "782/782 [==============================] - 1s 2ms/step - loss: 2.3056 - accuracy: 0.1005\n",
            "Test Loss: 2.305631637573242 - Test Acc: 0.10051999986171722\n"
          ],
          "name": "stdout"
        }
      ]
    }
  ]
}